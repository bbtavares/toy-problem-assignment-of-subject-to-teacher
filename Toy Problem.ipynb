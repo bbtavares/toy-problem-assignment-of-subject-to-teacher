{
 "cells": [
  {
   "cell_type": "code",
   "execution_count": null,
   "metadata": {},
   "outputs": [],
   "source": [
    "def dataFile(file, firstSplit, arrayName, firstValue = False, secondValue = False):\n",
    "    for line in file:\n",
    "        aux = []\n",
    "        linha = line.split(firstSplit)\n",
    "        if (firstSplit == ':'):\n",
    "            arrayName.append(linha[0])\n",
    "            if (secondValue is not False):\n",
    "                quebra = linha[1].split(',')\n",
    "                firstValue.append(int(quebra[0]))\n",
    "                secondValue.append(int(quebra[1]))\n",
    "            else:\n",
    "                firstValue.append(int(linha[1]))\n",
    "        else:\n",
    "            for x in range(len(linha)):\n",
    "                aux.append(int(linha[x]))\n",
    "            arrayName.append(aux)"
   ]
  },
  {
   "cell_type": "code",
   "execution_count": null,
   "metadata": {},
   "outputs": [],
   "source": [
    "from pulp import*\n",
    "\n",
    "# Conjuntos\n",
    "\n",
    "H     = []         # Horarios           Conjunto de 36 horários de aula (Seg a Sab)\n",
    "D     = []         # Dias               Conjunto de dias de aula (0-5)\n",
    "P     = []         # Docentes           Conjunto de 5 docentes\n",
    "T     = []         # Turmas             Conjunto de 9 turmas\n",
    "Sp    = []         # Preferencias       Conjunto de 4 turmas de preferência do docente p ∈ P (Sp ⊂ P)\n",
    "\n",
    "# Parâmetros\n",
    "\n",
    "Cht   = []         # Cht                Conjunto de carga horária das disciplinas\n",
    "Cmin  = []         # Cmin               Conjunto de carga horária mínima dos docentes\n",
    "Cmax  = []         # Cmax               Conjunto de carga horária máxima dos docentes\n",
    "aulas = []         # Aulas              Conjunto de dias de aula de acordo com a disciplina\n",
    "\n",
    "# Leitura\n",
    "\n",
    "D = [1, 2, 3, 4, 5, 6]\n",
    "\n",
    "file = open('slotes.txt', encoding='utf-8', mode='r')\n",
    "dataFile(file, \",\", H)\n",
    "file.close()\n",
    "\n",
    "file = open('docentes.txt', encoding='utf-8', mode='r')\n",
    "dataFile(file, \":\", P, Cmin, Cmax)\n",
    "file.close()\n",
    "\n",
    "file = open('turmas.txt', encoding='utf-8', mode='r')\n",
    "dataFile(file, \":\", T, Cht)\n",
    "file.close()\n",
    "\n",
    "file = open('preferencias.txt', encoding='utf-8', mode='r')\n",
    "dataFile(file, \",\", Sp)\n",
    "file.close()\n",
    "\n",
    "file = open('horarios.txt', encoding='utf-8', mode='r')\n",
    "dataFile(file, \",\", aulas)\n",
    "file.close()"
   ]
  },
  {
   "cell_type": "code",
   "execution_count": null,
   "metadata": {},
   "outputs": [],
   "source": [
    "print('\\nDias\\n')\n",
    "print(D)\n",
    "\n",
    "print('\\nSlotes\\n')\n",
    "print(H)\n",
    "\n",
    "print('\\nDocentes\\n')\n",
    "print(P)\n",
    "\n",
    "print('\\nCarga horária mínima\\n')\n",
    "print(Cmin)\n",
    "\n",
    "print('\\nCarga horária máxima\\n')\n",
    "print(Cmax)\n",
    "\n",
    "print('\\nTurmas\\n')\n",
    "print(T)\n",
    "\n",
    "print('\\nCarga horária das turmas\\n')\n",
    "print(Cht)\n",
    "\n",
    "print('\\nPreferências\\n')\n",
    "print(Sp)\n",
    "\n",
    "print('\\nAulas\\n')\n",
    "print(aulas)"
   ]
  },
  {
   "cell_type": "code",
   "execution_count": null,
   "metadata": {},
   "outputs": [],
   "source": [
    "# Construção do alpha\n",
    "\n",
    "alpha = []\n",
    "\n",
    "for t in range(len(T)):\n",
    "    alpha.append([])\n",
    "    for d in range(len(D)):\n",
    "        alpha[t].append([])\n",
    "        for h in range(len(H)):\n",
    "            alpha[t][d].append(0)"
   ]
  },
  {
   "cell_type": "raw",
   "metadata": {},
   "source": [
    "print(alpha)"
   ]
  },
  {
   "cell_type": "code",
   "execution_count": null,
   "metadata": {},
   "outputs": [],
   "source": [
    "# Edição do alpha\n",
    "\n",
    "for t in range(len(T)):\n",
    "    for h in range(len(H)):\n",
    "        if aulas[t][h] > 0:\n",
    "            if aulas[t][h] < 6:\n",
    "                d = 0\n",
    "                s = aulas[t][h]\n",
    "                alpha[t][d][s] = 1\n",
    "            else:\n",
    "                d = aulas[t][h]//6\n",
    "                s = (aulas[t][h] - (6*d))\n",
    "                alpha[t][d][s] = 1"
   ]
  },
  {
   "cell_type": "code",
   "execution_count": null,
   "metadata": {},
   "outputs": [],
   "source": [
    "print(alpha)"
   ]
  },
  {
   "cell_type": "code",
   "execution_count": null,
   "metadata": {},
   "outputs": [],
   "source": [
    "# Criação de dicts para variáveis específicas\n",
    "\n",
    "Pref = makeDict([P], Sp, 0)\n",
    "\n",
    "print('\\nPares de preferências')\n",
    "print(Pref)"
   ]
  },
  {
   "cell_type": "code",
   "execution_count": null,
   "metadata": {},
   "outputs": [],
   "source": [
    "prob = LpProblem(\"Atribuição_de_Turmas\",LpMinimize)"
   ]
  },
  {
   "cell_type": "code",
   "execution_count": null,
   "metadata": {},
   "outputs": [],
   "source": [
    "# Decisão\n",
    "\n",
    "x = LpVariable.dicts(\"x\",(P, range(0, len(T))), 0, 1, cat='Binary')\n",
    "    \n",
    "prob += lpSum([int(Pref[p][t])*x[p][t] for t in range(len(T)) for p in P])"
   ]
  },
  {
   "cell_type": "code",
   "execution_count": null,
   "metadata": {},
   "outputs": [],
   "source": [
    "# Toda turma tem docente\n",
    "\n",
    "for t in range(len(T)):\n",
    "    prob += lpSum([x[p][t] for p in P if Pref[p][t]>0]) == 1"
   ]
  },
  {
   "cell_type": "code",
   "execution_count": null,
   "metadata": {},
   "outputs": [],
   "source": [
    "# Respeita a carga horária máxima de cada docente\n",
    "\n",
    "for p, m in zip(P, range(len(P))):\n",
    "    prob += lpSum([Cht[t]*x[p][t] for t in range(len(T)) if Pref[p][t]>0]) <= Cmax[m]"
   ]
  },
  {
   "cell_type": "code",
   "execution_count": null,
   "metadata": {},
   "outputs": [],
   "source": [
    "# Respeita a carga horária mínima de cada docente\n",
    "\n",
    "for p, m in zip(P, range(len(P))):\n",
    "    prob += lpSum([Cht[t]*x[p][t] for t in range(len(T)) if Pref[p][t]>0]) >= Cmin[m]"
   ]
  },
  {
   "cell_type": "code",
   "execution_count": null,
   "metadata": {},
   "outputs": [],
   "source": [
    "# Impede choque de horário\n",
    "\n",
    "for p in P:\n",
    "    for d in range(len(D)):\n",
    "        for h in range(len(H)):\n",
    "            prob += lpSum([alpha[t][d][h]*x[p][t] for t in range(len(T)) if Pref[p][t]>0]) <= 1"
   ]
  },
  {
   "cell_type": "code",
   "execution_count": null,
   "metadata": {},
   "outputs": [],
   "source": [
    "print(prob)"
   ]
  },
  {
   "cell_type": "code",
   "execution_count": null,
   "metadata": {},
   "outputs": [],
   "source": [
    "# Solucionar p problema\n",
    "\n",
    "status = prob.solve()\n",
    "\n",
    "# Status de solução\n",
    "\n",
    "if status == LpStatusInfeasible:\n",
    "    print('Modelo inviável!')\n",
    "elif status == LpStatusUnbounded:\n",
    "    print('Solução ilimitada!')\n",
    "elif status == LpStatusOptimal:\n",
    "    print('Solução ótima encontrada!')\n",
    "else:\n",
    "    print('Ops! Algo deu errado!')"
   ]
  },
  {
   "cell_type": "code",
   "execution_count": null,
   "metadata": {},
   "outputs": [],
   "source": [
    "print('Solução:')\n",
    "for i in prob.variables():\n",
    "    if int(i.varValue)==1:\n",
    "        print(i.name, \"=\", int(i.varValue))"
   ]
  }
 ],
 "metadata": {
  "kernelspec": {
   "display_name": "Python 3 (ipykernel)",
   "language": "python",
   "name": "python3"
  },
  "language_info": {
   "codemirror_mode": {
    "name": "ipython",
    "version": 3
   },
   "file_extension": ".py",
   "mimetype": "text/x-python",
   "name": "python",
   "nbconvert_exporter": "python",
   "pygments_lexer": "ipython3",
   "version": "3.9.7"
  }
 },
 "nbformat": 4,
 "nbformat_minor": 4
}
